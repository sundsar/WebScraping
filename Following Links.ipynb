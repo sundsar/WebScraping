{
 "cells": [
  {
   "cell_type": "markdown",
   "metadata": {},
   "source": [
    "####  Following Links\n",
    "The sample web pages tweak the height between the links and hide the page after a few seconds. This script finds the link at position 18 (the first name is position 1). Follows that link. Repeats this process 7 times and retrieves the name of the last page."
   ]
  },
  {
   "cell_type": "code",
   "execution_count": 12,
   "metadata": {},
   "outputs": [],
   "source": [
    "from bs4 import BeautifulSoup\n",
    "import requests"
   ]
  },
  {
   "cell_type": "code",
   "execution_count": 13,
   "metadata": {},
   "outputs": [],
   "source": [
    "url = 'http://py4e-data.dr-chuck.net/known_by_Anisa.html'"
   ]
  },
  {
   "cell_type": "code",
   "execution_count": 14,
   "metadata": {},
   "outputs": [],
   "source": [
    "urllist = list()\n",
    "count = 7\n",
    "pos = 18"
   ]
  },
  {
   "cell_type": "code",
   "execution_count": 15,
   "metadata": {},
   "outputs": [
    {
     "name": "stdout",
     "output_type": "stream",
     "text": [
      "Retrieving:  http://py4e-data.dr-chuck.net/known_by_Anisa.html\n",
      "Retrieving:  http://py4e-data.dr-chuck.net/known_by_Ami.html\n",
      "Retrieving:  http://py4e-data.dr-chuck.net/known_by_Elyssa.html\n",
      "Retrieving:  http://py4e-data.dr-chuck.net/known_by_Luighsighe.html\n",
      "Retrieving:  http://py4e-data.dr-chuck.net/known_by_Ellia.html\n",
      "Retrieving:  http://py4e-data.dr-chuck.net/known_by_Anaya.html\n",
      "Retrieving:  http://py4e-data.dr-chuck.net/known_by_Dalton.html\n",
      "Retrieving:  http://py4e-data.dr-chuck.net/known_by_Shani.html\n"
     ]
    }
   ],
   "source": [
    "while count >= 0:\n",
    "    count = count - 1\n",
    "    print('Retrieving: ',url)\n",
    "    source = requests.get(url).text\n",
    "    soup = BeautifulSoup(source,'lxml')\n",
    "    urllist.clear()\n",
    "    tags = soup('a')\n",
    "    for tag in tags:\n",
    "        tempurl = tag.get('href', None)\n",
    "        urllist.append(tempurl)\n",
    "    url = urllist[pos-1]"
   ]
  },
  {
   "cell_type": "code",
   "execution_count": null,
   "metadata": {},
   "outputs": [],
   "source": []
  }
 ],
 "metadata": {
  "kernelspec": {
   "display_name": "Python 3",
   "language": "python",
   "name": "python3"
  },
  "language_info": {
   "codemirror_mode": {
    "name": "ipython",
    "version": 3
   },
   "file_extension": ".py",
   "mimetype": "text/x-python",
   "name": "python",
   "nbconvert_exporter": "python",
   "pygments_lexer": "ipython3",
   "version": "3.7.6"
  }
 },
 "nbformat": 4,
 "nbformat_minor": 4
}
